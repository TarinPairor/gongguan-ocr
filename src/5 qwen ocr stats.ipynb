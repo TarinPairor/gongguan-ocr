{
 "cells": [
  {
   "cell_type": "markdown",
   "metadata": {},
   "source": [
    "## Qwen ocr test\n",
    "\n",
    "Using the results of the fintuned Qwen model, this NB uses standard OCR metrics to evaluate the results."
   ]
  },
  {
   "cell_type": "code",
   "execution_count": 1,
   "metadata": {},
   "outputs": [],
   "source": [
    "import ocr\n",
    "import pandas as pd"
   ]
  },
  {
   "cell_type": "code",
   "execution_count": 2,
   "metadata": {},
   "outputs": [],
   "source": [
    "df = pd.read_csv(\"qwen_predictions.csv\")"
   ]
  },
  {
   "cell_type": "code",
   "execution_count": 3,
   "metadata": {},
   "outputs": [
    {
     "data": {
      "text/html": [
       "<div>\n",
       "<style scoped>\n",
       "    .dataframe tbody tr th:only-of-type {\n",
       "        vertical-align: middle;\n",
       "    }\n",
       "\n",
       "    .dataframe tbody tr th {\n",
       "        vertical-align: top;\n",
       "    }\n",
       "\n",
       "    .dataframe thead th {\n",
       "        text-align: right;\n",
       "    }\n",
       "</style>\n",
       "<table border=\"1\" class=\"dataframe\">\n",
       "  <thead>\n",
       "    <tr style=\"text-align: right;\">\n",
       "      <th></th>\n",
       "      <th>ground_truth</th>\n",
       "      <th>prediction</th>\n",
       "      <th>identifier</th>\n",
       "    </tr>\n",
       "  </thead>\n",
       "  <tbody>\n",
       "    <tr>\n",
       "      <th>0</th>\n",
       "      <td>林黄當甲甲事  丁  十  一  月  十  一  日  和  1  7  8  7  年 ...</td>\n",
       "      <td>林黃當甲甲事  丁  十  一  月  十  一  日  和  1  7  8  7  年 ...</td>\n",
       "      <td>0009_p009_r_13</td>\n",
       "    </tr>\n",
       "    <tr>\n",
       "      <th>1</th>\n",
       "      <td>李溫阿端七壽叫</td>\n",
       "      <td>李溫阿端七壽</td>\n",
       "      <td>0009_p009_r_21</td>\n",
       "    </tr>\n",
       "    <tr>\n",
       "      <th>2</th>\n",
       "      <td>甲必丹大府中嘧喳嘮</td>\n",
       "      <td>甲必丹大府中嘧喳一勞</td>\n",
       "      <td>0010_p010_r_22</td>\n",
       "    </tr>\n",
       "    <tr>\n",
       "      <th>3</th>\n",
       "      <td>止仔得公其並之堂餘稱 會三亭 議個事 爲月例 雷該錢 珍錢全 蘭壹年 高百共 根柒七 官拾百...</td>\n",
       "      <td>公止堂并仔稱其餘會議三稱為亭事, 例錢高該蘭珍全年俱根, 原七百官棄, 根拾五世之, 久文夫...</td>\n",
       "      <td>0009_p009_r_8</td>\n",
       "    </tr>\n",
       "    <tr>\n",
       "      <th>4</th>\n",
       "      <td>甲喳堂身坐林必嘮交則錢聽丹要黄可五供大討倦兹拾謂投使收聽文聽告費入復並前彼 懇臨幼有時外乞吧...</td>\n",
       "      <td>堂林坐黄魁辱交坐甲供五思辱论貳兒貰可要謂赚大堂乞使入積悲黄積存報告外懇着陸漸鈸着收辱鈸生寄 ...</td>\n",
       "      <td>0003_p003_r_9</td>\n",
       "    </tr>\n",
       "  </tbody>\n",
       "</table>\n",
       "</div>"
      ],
      "text/plain": [
       "                                        ground_truth  \\\n",
       "0  林黄當甲甲事  丁  十  一  月  十  一  日  和  1  7  8  7  年 ...   \n",
       "1                                            李溫阿端七壽叫   \n",
       "2                                          甲必丹大府中嘧喳嘮   \n",
       "3  止仔得公其並之堂餘稱 會三亭 議個事 爲月例 雷該錢 珍錢全 蘭壹年 高百共 根柒七 官拾百...   \n",
       "4  甲喳堂身坐林必嘮交則錢聽丹要黄可五供大討倦兹拾謂投使收聽文聽告費入復並前彼 懇臨幼有時外乞吧...   \n",
       "\n",
       "                                          prediction      identifier  \n",
       "0  林黃當甲甲事  丁  十  一  月  十  一  日  和  1  7  8  7  年 ...  0009_p009_r_13  \n",
       "1                                             李溫阿端七壽  0009_p009_r_21  \n",
       "2                                         甲必丹大府中嘧喳一勞  0010_p010_r_22  \n",
       "3  公止堂并仔稱其餘會議三稱為亭事, 例錢高該蘭珍全年俱根, 原七百官棄, 根拾五世之, 久文夫...   0009_p009_r_8  \n",
       "4  堂林坐黄魁辱交坐甲供五思辱论貳兒貰可要謂赚大堂乞使入積悲黄積存報告外懇着陸漸鈸着收辱鈸生寄 ...   0003_p003_r_9  "
      ]
     },
     "execution_count": 3,
     "metadata": {},
     "output_type": "execute_result"
    }
   ],
   "source": [
    "df.head()"
   ]
  },
  {
   "cell_type": "code",
   "execution_count": 18,
   "metadata": {},
   "outputs": [],
   "source": [
    "gt_texts = [x for x in df[\"ground_truth\"]]\n",
    "pred_texts = [x for x in df[\"prediction\"]]\n",
    "cer, wer = ocr.evaluate_ocr(gt_texts, pred_texts)"
   ]
  },
  {
   "cell_type": "code",
   "execution_count": 19,
   "metadata": {},
   "outputs": [
    {
     "name": "stdout",
     "output_type": "stream",
     "text": [
      "Global CER: 52.39%\n",
      "Global WER: 87.06%\n"
     ]
    }
   ],
   "source": [
    "print(f\"Global CER: {cer * 100:.2f}%\")\n",
    "print(f\"Global WER: {wer * 100:.2f}%\")"
   ]
  },
  {
   "cell_type": "code",
   "execution_count": 20,
   "metadata": {},
   "outputs": [],
   "source": [
    "for k,v in df.iterrows():\n",
    "    gt_text = v[\"ground_truth\"].replace(\"\\n\",\"\").replace(\" \",\"\")\n",
    "    pred_text = v[\"prediction\"].replace(\"\\n\",\"\").replace(\" \",\"\")\n",
    "    cer,wer = ocr.evaluate_ocr(gt_text,pred_text)\n",
    "    df.loc[k,\"cer\"] = cer\n",
    "    df.loc[k,\"wer\"] = wer"
   ]
  },
  {
   "cell_type": "code",
   "execution_count": 21,
   "metadata": {
    "scrolled": true
   },
   "outputs": [
    {
     "data": {
      "text/html": [
       "<div>\n",
       "<style scoped>\n",
       "    .dataframe tbody tr th:only-of-type {\n",
       "        vertical-align: middle;\n",
       "    }\n",
       "\n",
       "    .dataframe tbody tr th {\n",
       "        vertical-align: top;\n",
       "    }\n",
       "\n",
       "    .dataframe thead th {\n",
       "        text-align: right;\n",
       "    }\n",
       "</style>\n",
       "<table border=\"1\" class=\"dataframe\">\n",
       "  <thead>\n",
       "    <tr style=\"text-align: right;\">\n",
       "      <th></th>\n",
       "      <th>ground_truth</th>\n",
       "      <th>prediction</th>\n",
       "      <th>identifier</th>\n",
       "      <th>cer</th>\n",
       "      <th>wer</th>\n",
       "    </tr>\n",
       "  </thead>\n",
       "  <tbody>\n",
       "    <tr>\n",
       "      <th>0</th>\n",
       "      <td>林黄當甲甲事  丁  十  一  月  十  一  日  和  1  7  8  7  年 ...</td>\n",
       "      <td>林黃當甲甲事  丁  十  一  月  十  一  日  和  1  7  8  7  年 ...</td>\n",
       "      <td>0009_p009_r_13</td>\n",
       "      <td>0.037037</td>\n",
       "      <td>0.037037</td>\n",
       "    </tr>\n",
       "    <tr>\n",
       "      <th>1</th>\n",
       "      <td>李溫阿端七壽叫</td>\n",
       "      <td>李溫阿端七壽</td>\n",
       "      <td>0009_p009_r_21</td>\n",
       "      <td>0.000000</td>\n",
       "      <td>0.000000</td>\n",
       "    </tr>\n",
       "    <tr>\n",
       "      <th>2</th>\n",
       "      <td>甲必丹大府中嘧喳嘮</td>\n",
       "      <td>甲必丹大府中嘧喳一勞</td>\n",
       "      <td>0010_p010_r_22</td>\n",
       "      <td>0.111111</td>\n",
       "      <td>0.111111</td>\n",
       "    </tr>\n",
       "    <tr>\n",
       "      <th>3</th>\n",
       "      <td>止仔得公其並之堂餘稱 會三亭 議個事 爲月例 雷該錢 珍錢全 蘭壹年 高百共 根柒七 官拾百...</td>\n",
       "      <td>公止堂并仔稱其餘會議三稱為亭事, 例錢高該蘭珍全年俱根, 原七百官棄, 根拾五世之, 久文夫...</td>\n",
       "      <td>0009_p009_r_8</td>\n",
       "      <td>0.805556</td>\n",
       "      <td>0.805556</td>\n",
       "    </tr>\n",
       "    <tr>\n",
       "      <th>4</th>\n",
       "      <td>甲喳堂身坐林必嘮交則錢聽丹要黄可五供大討倦兹拾謂投使收聽文聽告費入復並前彼 懇臨幼有時外乞吧...</td>\n",
       "      <td>堂林坐黄魁辱交坐甲供五思辱论貳兒貰可要謂赚大堂乞使入積悲黄積存報告外懇着陸漸鈸着收辱鈸生寄 ...</td>\n",
       "      <td>0003_p003_r_9</td>\n",
       "      <td>0.631579</td>\n",
       "      <td>0.631579</td>\n",
       "    </tr>\n",
       "  </tbody>\n",
       "</table>\n",
       "</div>"
      ],
      "text/plain": [
       "                                        ground_truth  \\\n",
       "0  林黄當甲甲事  丁  十  一  月  十  一  日  和  1  7  8  7  年 ...   \n",
       "1                                            李溫阿端七壽叫   \n",
       "2                                          甲必丹大府中嘧喳嘮   \n",
       "3  止仔得公其並之堂餘稱 會三亭 議個事 爲月例 雷該錢 珍錢全 蘭壹年 高百共 根柒七 官拾百...   \n",
       "4  甲喳堂身坐林必嘮交則錢聽丹要黄可五供大討倦兹拾謂投使收聽文聽告費入復並前彼 懇臨幼有時外乞吧...   \n",
       "\n",
       "                                          prediction      identifier  \\\n",
       "0  林黃當甲甲事  丁  十  一  月  十  一  日  和  1  7  8  7  年 ...  0009_p009_r_13   \n",
       "1                                             李溫阿端七壽  0009_p009_r_21   \n",
       "2                                         甲必丹大府中嘧喳一勞  0010_p010_r_22   \n",
       "3  公止堂并仔稱其餘會議三稱為亭事, 例錢高該蘭珍全年俱根, 原七百官棄, 根拾五世之, 久文夫...   0009_p009_r_8   \n",
       "4  堂林坐黄魁辱交坐甲供五思辱论貳兒貰可要謂赚大堂乞使入積悲黄積存報告外懇着陸漸鈸着收辱鈸生寄 ...   0003_p003_r_9   \n",
       "\n",
       "        cer       wer  \n",
       "0  0.037037  0.037037  \n",
       "1  0.000000  0.000000  \n",
       "2  0.111111  0.111111  \n",
       "3  0.805556  0.805556  \n",
       "4  0.631579  0.631579  "
      ]
     },
     "execution_count": 21,
     "metadata": {},
     "output_type": "execute_result"
    }
   ],
   "source": [
    "df.head()"
   ]
  },
  {
   "cell_type": "code",
   "execution_count": 22,
   "metadata": {},
   "outputs": [
    {
     "data": {
      "text/html": [
       "<div>\n",
       "<style scoped>\n",
       "    .dataframe tbody tr th:only-of-type {\n",
       "        vertical-align: middle;\n",
       "    }\n",
       "\n",
       "    .dataframe tbody tr th {\n",
       "        vertical-align: top;\n",
       "    }\n",
       "\n",
       "    .dataframe thead th {\n",
       "        text-align: right;\n",
       "    }\n",
       "</style>\n",
       "<table border=\"1\" class=\"dataframe\">\n",
       "  <thead>\n",
       "    <tr style=\"text-align: right;\">\n",
       "      <th></th>\n",
       "      <th>ground_truth</th>\n",
       "      <th>prediction</th>\n",
       "      <th>identifier</th>\n",
       "      <th>cer</th>\n",
       "      <th>wer</th>\n",
       "    </tr>\n",
       "  </thead>\n",
       "  <tbody>\n",
       "    <tr>\n",
       "      <th>0</th>\n",
       "      <td>林黄當甲甲事  丁  十  一  月  十  一  日  和  1  7  8  7  年 ...</td>\n",
       "      <td>林黃當甲甲事  丁  十  一  月  十  一  日  和  1  7  8  7  年 ...</td>\n",
       "      <td>0009_p009_r_13</td>\n",
       "      <td>0.037037</td>\n",
       "      <td>0.037037</td>\n",
       "    </tr>\n",
       "    <tr>\n",
       "      <th>1</th>\n",
       "      <td>李溫阿端七壽叫</td>\n",
       "      <td>李溫阿端七壽</td>\n",
       "      <td>0009_p009_r_21</td>\n",
       "      <td>0.000000</td>\n",
       "      <td>0.000000</td>\n",
       "    </tr>\n",
       "    <tr>\n",
       "      <th>2</th>\n",
       "      <td>甲必丹大府中嘧喳嘮</td>\n",
       "      <td>甲必丹大府中嘧喳一勞</td>\n",
       "      <td>0010_p010_r_22</td>\n",
       "      <td>0.111111</td>\n",
       "      <td>0.111111</td>\n",
       "    </tr>\n",
       "    <tr>\n",
       "      <th>3</th>\n",
       "      <td>止仔得公其並之堂餘稱 會三亭 議個事 爲月例 雷該錢 珍錢全 蘭壹年 高百共 根柒七 官拾百...</td>\n",
       "      <td>公止堂并仔稱其餘會議三稱為亭事, 例錢高該蘭珍全年俱根, 原七百官棄, 根拾五世之, 久文夫...</td>\n",
       "      <td>0009_p009_r_8</td>\n",
       "      <td>0.805556</td>\n",
       "      <td>0.805556</td>\n",
       "    </tr>\n",
       "    <tr>\n",
       "      <th>4</th>\n",
       "      <td>甲喳堂身坐林必嘮交則錢聽丹要黄可五供大討倦兹拾謂投使收聽文聽告費入復並前彼 懇臨幼有時外乞吧...</td>\n",
       "      <td>堂林坐黄魁辱交坐甲供五思辱论貳兒貰可要謂赚大堂乞使入積悲黄積存報告外懇着陸漸鈸着收辱鈸生寄 ...</td>\n",
       "      <td>0003_p003_r_9</td>\n",
       "      <td>0.631579</td>\n",
       "      <td>0.631579</td>\n",
       "    </tr>\n",
       "    <tr>\n",
       "      <th>5</th>\n",
       "      <td>李屡阿討七不供还謂 温列端臺壽因前會有錢欠之去事湊公會堂之不錢理貳 拾 玖 文 零 一 方 半</td>\n",
       "      <td>李李阿阿七七供谓温端寿前公有召妻齊議堂不理會 因會錢主事武拾文 反文。一万半</td>\n",
       "      <td>0009_p009_r_23</td>\n",
       "      <td>0.820513</td>\n",
       "      <td>0.820513</td>\n",
       "    </tr>\n",
       "    <tr>\n",
       "      <th>6</th>\n",
       "      <td>王唐當甲甲事  丁  十  一  月  廿  八  日  和  1  7  8  8  年 ...</td>\n",
       "      <td>王唐當甲甲事  丁  十  一  月  共  八  日  和  1  7  8  7  年 ...</td>\n",
       "      <td>0010_p010_r_28</td>\n",
       "      <td>0.115385</td>\n",
       "      <td>0.115385</td>\n",
       "    </tr>\n",
       "    <tr>\n",
       "      <th>7</th>\n",
       "      <td>甲府陳楊當大中甲甲事 嘧  丁 喳  十 嘮  月    十    三    日    和 ...</td>\n",
       "      <td>甲府大中歴常楊甲當事丁十月十日十三丁和五年一月廿一日四</td>\n",
       "      <td>0005_p005_r_19</td>\n",
       "      <td>0.666667</td>\n",
       "      <td>0.666667</td>\n",
       "    </tr>\n",
       "    <tr>\n",
       "      <th>8</th>\n",
       "      <td>乾隆丁未年九月廿一日和_年十月三十一日,拜三</td>\n",
       "      <td>乾隆丁未九月廿一日和陸年十月三十一日拜三</td>\n",
       "      <td>0001_p001_r_2</td>\n",
       "      <td>0.727273</td>\n",
       "      <td>0.727273</td>\n",
       "    </tr>\n",
       "    <tr>\n",
       "      <th>9</th>\n",
       "      <td>暫大上身公兹承掛掌府人故班於實沙撫中公兒衙丁奎字養會論子轄未炳仰其議裁幼下年列甲兒回奪穉公十...</td>\n",
       "      <td>上公班懸身暫大公故判班人貳沙揣廡舞歸中計綱子我術削就衆議成子十八桡甲十有一攝年回覆置其十有二...</td>\n",
       "      <td>0008_p008_r_4</td>\n",
       "      <td>0.721893</td>\n",
       "      <td>0.721893</td>\n",
       "    </tr>\n",
       "    <tr>\n",
       "      <th>10</th>\n",
       "      <td>文此門雙高務和寅門蘭一一蔀錢柄潭貓1俱一高名付與叁伴官葛7是付根唤曾王千陶柳的8暹妻官春鄰茂...</td>\n",
       "      <td>此雙高門雙黎明部一聯合名此部鄭年 Aires一與雙高部郎六 Aires六名光柄是晨名俱官官夏...</td>\n",
       "      <td>0006_p006_r_11</td>\n",
       "      <td>0.433962</td>\n",
       "      <td>0.433962</td>\n",
       "    </tr>\n",
       "    <tr>\n",
       "      <th>11</th>\n",
       "      <td>黎原張被欽告帖告觀報觀亦叫病 不 不 到 到</td>\n",
       "      <td>黎張恐欣觀叫病不報告帖觀到亦不</td>\n",
       "      <td>0009_p009_r_25</td>\n",
       "      <td>0.722222</td>\n",
       "      <td>0.722222</td>\n",
       "    </tr>\n",
       "    <tr>\n",
       "      <th>12</th>\n",
       "      <td>許吳類度觀觀叫</td>\n",
       "      <td>許吳觀度類觀叫</td>\n",
       "      <td>0008_p008_r_13</td>\n",
       "      <td>0.285714</td>\n",
       "      <td>0.285714</td>\n",
       "    </tr>\n",
       "    <tr>\n",
       "      <th>13</th>\n",
       "      <td>廣措先討往俱氏有壹本是陳錢興他箱曰還還茶又稱實於斤徒月江既廣欲又鄭如王錢不旺不理議以十娘回供...</td>\n",
       "      <td>先廣陈王箱招回赠有氏此辱廣回查不娘谓回提汝召实茶长休息回理现目明鑑欠計�拾茶欠命報公貳陳拾堂...</td>\n",
       "      <td>0002_p002_r_5</td>\n",
       "      <td>0.281106</td>\n",
       "      <td>0.281106</td>\n",
       "    </tr>\n",
       "  </tbody>\n",
       "</table>\n",
       "</div>"
      ],
      "text/plain": [
       "                                         ground_truth  \\\n",
       "0   林黄當甲甲事  丁  十  一  月  十  一  日  和  1  7  8  7  年 ...   \n",
       "1                                             李溫阿端七壽叫   \n",
       "2                                           甲必丹大府中嘧喳嘮   \n",
       "3   止仔得公其並之堂餘稱 會三亭 議個事 爲月例 雷該錢 珍錢全 蘭壹年 高百共 根柒七 官拾百...   \n",
       "4   甲喳堂身坐林必嘮交則錢聽丹要黄可五供大討倦兹拾謂投使收聽文聽告費入復並前彼 懇臨幼有時外乞吧...   \n",
       "5     李屡阿討七不供还謂 温列端臺壽因前會有錢欠之去事湊公會堂之不錢理貳 拾 玖 文 零 一 方 半   \n",
       "6   王唐當甲甲事  丁  十  一  月  廿  八  日  和  1  7  8  8  年 ...   \n",
       "7   甲府陳楊當大中甲甲事 嘧  丁 喳  十 嘮  月    十    三    日    和 ...   \n",
       "8                              乾隆丁未年九月廿一日和_年十月三十一日,拜三   \n",
       "9   暫大上身公兹承掛掌府人故班於實沙撫中公兒衙丁奎字養會論子轄未炳仰其議裁幼下年列甲兒回奪穉公十...   \n",
       "10  文此門雙高務和寅門蘭一一蔀錢柄潭貓1俱一高名付與叁伴官葛7是付根唤曾王千陶柳的8暹妻官春鄰茂...   \n",
       "11                             黎原張被欽告帖告觀報觀亦叫病 不 不 到 到   \n",
       "12                                            許吳類度觀觀叫   \n",
       "13  廣措先討往俱氏有壹本是陳錢興他箱曰還還茶又稱實於斤徒月江既廣欲又鄭如王錢不旺不理議以十娘回供...   \n",
       "\n",
       "                                           prediction      identifier  \\\n",
       "0   林黃當甲甲事  丁  十  一  月  十  一  日  和  1  7  8  7  年 ...  0009_p009_r_13   \n",
       "1                                              李溫阿端七壽  0009_p009_r_21   \n",
       "2                                          甲必丹大府中嘧喳一勞  0010_p010_r_22   \n",
       "3   公止堂并仔稱其餘會議三稱為亭事, 例錢高該蘭珍全年俱根, 原七百官棄, 根拾五世之, 久文夫...   0009_p009_r_8   \n",
       "4   堂林坐黄魁辱交坐甲供五思辱论貳兒貰可要謂赚大堂乞使入積悲黄積存報告外懇着陸漸鈸着收辱鈸生寄 ...   0003_p003_r_9   \n",
       "5              李李阿阿七七供谓温端寿前公有召妻齊議堂不理會 因會錢主事武拾文 反文。一万半  0009_p009_r_23   \n",
       "6   王唐當甲甲事  丁  十  一  月  共  八  日  和  1  7  8  7  年 ...  0010_p010_r_28   \n",
       "7                         甲府大中歴常楊甲當事丁十月十日十三丁和五年一月廿一日四  0005_p005_r_19   \n",
       "8                                乾隆丁未九月廿一日和陸年十月三十一日拜三   0001_p001_r_2   \n",
       "9   上公班懸身暫大公故判班人貳沙揣廡舞歸中計綱子我術削就衆議成子十八桡甲十有一攝年回覆置其十有二...   0008_p008_r_4   \n",
       "10  此雙高門雙黎明部一聯合名此部鄭年 Aires一與雙高部郎六 Aires六名光柄是晨名俱官官夏...  0006_p006_r_11   \n",
       "11                                    黎張恐欣觀叫病不報告帖觀到亦不  0009_p009_r_25   \n",
       "12                                            許吳觀度類觀叫  0008_p008_r_13   \n",
       "13  先廣陈王箱招回赠有氏此辱廣回查不娘谓回提汝召实茶长休息回理现目明鑑欠計�拾茶欠命報公貳陳拾堂...   0002_p002_r_5   \n",
       "\n",
       "         cer       wer  \n",
       "0   0.037037  0.037037  \n",
       "1   0.000000  0.000000  \n",
       "2   0.111111  0.111111  \n",
       "3   0.805556  0.805556  \n",
       "4   0.631579  0.631579  \n",
       "5   0.820513  0.820513  \n",
       "6   0.115385  0.115385  \n",
       "7   0.666667  0.666667  \n",
       "8   0.727273  0.727273  \n",
       "9   0.721893  0.721893  \n",
       "10  0.433962  0.433962  \n",
       "11  0.722222  0.722222  \n",
       "12  0.285714  0.285714  \n",
       "13  0.281106  0.281106  "
      ]
     },
     "execution_count": 22,
     "metadata": {},
     "output_type": "execute_result"
    }
   ],
   "source": [
    "df"
   ]
  },
  {
   "cell_type": "code",
   "execution_count": 23,
   "metadata": {},
   "outputs": [
    {
     "data": {
      "text/plain": [
       "0.4542869810645768"
      ]
     },
     "execution_count": 23,
     "metadata": {},
     "output_type": "execute_result"
    }
   ],
   "source": [
    "df[\"cer\"].mean()"
   ]
  },
  {
   "cell_type": "code",
   "execution_count": 24,
   "metadata": {},
   "outputs": [
    {
     "data": {
      "text/plain": [
       "0.4542869810645768"
      ]
     },
     "execution_count": 24,
     "metadata": {},
     "output_type": "execute_result"
    }
   ],
   "source": [
    "df[\"wer\"].mean()"
   ]
  },
  {
   "cell_type": "code",
   "execution_count": null,
   "metadata": {},
   "outputs": [],
   "source": []
  }
 ],
 "metadata": {
  "kernelspec": {
   "display_name": "Python 3 (ipykernel)",
   "language": "python",
   "name": "python3"
  },
  "language_info": {
   "codemirror_mode": {
    "name": "ipython",
    "version": 3
   },
   "file_extension": ".py",
   "mimetype": "text/x-python",
   "name": "python",
   "nbconvert_exporter": "python",
   "pygments_lexer": "ipython3",
   "version": "3.10.12"
  }
 },
 "nbformat": 4,
 "nbformat_minor": 4
}
